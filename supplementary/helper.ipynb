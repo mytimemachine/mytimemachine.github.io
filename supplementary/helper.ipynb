{
 "cells": [
  {
   "cell_type": "code",
   "execution_count": 6,
   "metadata": {},
   "outputs": [],
   "source": [
    "import os\n",
    "import sys\n",
    "import shutil\n",
    "import collections\n",
    "import re\n",
    "from PIL import Image\n",
    "\n",
    "def iterate_over_img_dir(img_dir):\n",
    "    IMG_EXTENSIONS = ['.jpg', '.jpeg', '.png', '.JPG', '.JPEG', '.PNG']\n",
    "    for root, dirs, files in os.walk(img_dir):\n",
    "        for file in files:\n",
    "            if any(file.endswith(extension) for extension in IMG_EXTENSIONS):\n",
    "                yield os.path.join(root, file)"
   ]
  },
  {
   "cell_type": "code",
   "execution_count": 7,
   "metadata": {},
   "outputs": [],
   "source": [
    "# rename files in a directory\n",
    "# from xxx_age.jpg to age.jpg\n",
    "parent_dir = '/playpen-nas-ssd/luchao/projects/SAM/supplementary_mytimemachine/results/comparisons/age_regression/jackie/ours_new'\n",
    "for img_path in iterate_over_img_dir(parent_dir):\n",
    "    new_name = os.path.basename(img_path).split('.')[0].split('_')[-1]\n",
    "    # add padding to make it 2 digits\n",
    "    new_name = new_name.zfill(2) + '.jpeg'\n",
    "    os.rename(img_path, os.path.join(parent_dir, new_name))\n"
   ]
  }
 ],
 "metadata": {
  "kernelspec": {
   "display_name": "sam",
   "language": "python",
   "name": "python3"
  },
  "language_info": {
   "codemirror_mode": {
    "name": "ipython",
    "version": 3
   },
   "file_extension": ".py",
   "mimetype": "text/x-python",
   "name": "python",
   "nbconvert_exporter": "python",
   "pygments_lexer": "ipython3",
   "version": "3.10.13"
  }
 },
 "nbformat": 4,
 "nbformat_minor": 2
}
